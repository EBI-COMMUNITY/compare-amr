{
 "cells": [
  {
   "cell_type": "markdown",
   "metadata": {},
   "source": [
    "# Data accession example commands for ENA AMR database\n",
    "\n",
    "---\n",
    "\n",
    "This notebook's goal is to provide a few examples which are useful for accessing the desired data in the ENA database. It is written in python.\n",
    "\n",
    "---\n",
    "_Author: Bálint Ármin Pataki_\n",
    "\n",
    "---"
   ]
  },
  {
   "cell_type": "markdown",
   "metadata": {},
   "source": [
    "First we need a username and a password. For the AMR project the first is **dcc_schubert**, the second is private."
   ]
  },
  {
   "cell_type": "code",
   "execution_count": 1,
   "metadata": {},
   "outputs": [],
   "source": [
    "user = 'dcc_schubert'\n",
    "pwd  = '************'"
   ]
  },
  {
   "cell_type": "markdown",
   "metadata": {},
   "source": [
    "We will use **pandas** for handling the datafiles."
   ]
  },
  {
   "cell_type": "code",
   "execution_count": 2,
   "metadata": {},
   "outputs": [],
   "source": [
    "import pandas as pd"
   ]
  },
  {
   "cell_type": "markdown",
   "metadata": {},
   "source": [
    "Using the [ENA Portal API](https://www.ebi.ac.uk/ena/portal/api/) we can generate links that matches our wishes.  \n",
    "There is a complete documentation at the link, this notebook only shows a lazy start with copy-paste commands.\n",
    "\n",
    "A few notes for the commands below:\n",
    " - **\\$user:\\$pwd** is providing the authentication\n",
    " - **result=analysis or read_run** is the type of the result we want to obtain.   \n",
    " First one contains the analysis related files (in this case the antibiotic resistance files) and the second one contains the raw read files.\n",
    " - **query=analysis_type%3D%22AMR_ANTIBIOGRAM** we are interested in the AMR_ANTIBIOGRAM project now.\n",
    " - **dataPortal=pathogen** we are looking for the pathogen dataportal.\n",
    " - **fields= ...** a list of columns which we are interested in.\n",
    " - **dccDataOnly=true** we want only data that is linked to the dcc_schubert datahub.\n",
    " \n",
    "The result is saved to **metaFILE.txt** and **readFILE.txt**"
   ]
  },
  {
   "cell_type": "code",
   "execution_count": 3,
   "metadata": {},
   "outputs": [],
   "source": [
    "!curl -s -X GET --header 'Accept: text/plain' -u $user:$pwd 'https://www.ebi.ac.uk/ena/portal/api/search?result=analysis&query=analysis_type%3D%22AMR_ANTIBIOGRAM%22&fields=sample_alias%2Csample_accession%2Cscientific_name%2Csubmitted_md5%2Csubmitted_ftp%2Ccountry&dataPortal=pathogen&dccDataOnly=true' > metaFILE.txt\n",
    "!curl -s -X GET --header 'Accept: text/plain' -u $user:$pwd 'https://www.ebi.ac.uk/ena/portal/api/search?result=read_run&fields=sample_alias%2Clibrary_layout%2Csample_accession%2Cfastq_md5%2Cfastq_ftp&dataPortal=pathogen&dccDataOnly=true' > readFILE.txt"
   ]
  },
  {
   "cell_type": "markdown",
   "metadata": {},
   "source": [
    "### What do we have?\n",
    "---\n",
    "The **result=analysis** contains the linked MIC files, its md5 hash and metadata about it."
   ]
  },
  {
   "cell_type": "code",
   "execution_count": 4,
   "metadata": {},
   "outputs": [
    {
     "data": {
      "text/html": [
       "<div>\n",
       "<style scoped>\n",
       "    .dataframe tbody tr th:only-of-type {\n",
       "        vertical-align: middle;\n",
       "    }\n",
       "\n",
       "    .dataframe tbody tr th {\n",
       "        vertical-align: top;\n",
       "    }\n",
       "\n",
       "    .dataframe thead th {\n",
       "        text-align: right;\n",
       "    }\n",
       "</style>\n",
       "<table border=\"1\" class=\"dataframe\">\n",
       "  <thead>\n",
       "    <tr style=\"text-align: right;\">\n",
       "      <th></th>\n",
       "      <th>analysis_accession</th>\n",
       "      <th>sample_alias</th>\n",
       "      <th>sample_accession</th>\n",
       "      <th>scientific_name</th>\n",
       "      <th>submitted_md5</th>\n",
       "      <th>submitted_ftp</th>\n",
       "      <th>country</th>\n",
       "    </tr>\n",
       "  </thead>\n",
       "  <tbody>\n",
       "    <tr>\n",
       "      <th>0</th>\n",
       "      <td>ERZ373537</td>\n",
       "      <td>UTI_19-II</td>\n",
       "      <td>SAMEA4556054</td>\n",
       "      <td>Escherichia coli</td>\n",
       "      <td>7f4572c9a91ff3d40b873245c6c8badc;c62b6154a043a...</td>\n",
       "      <td>ftp.sra.ebi.ac.uk/vol1/ERZ373/ERZ373537/AMC_UT...</td>\n",
       "      <td>Netherlands</td>\n",
       "    </tr>\n",
       "    <tr>\n",
       "      <th>1</th>\n",
       "      <td>ERZ373538</td>\n",
       "      <td>UTI_23</td>\n",
       "      <td>SAMEA4556055</td>\n",
       "      <td>Escherichia coli</td>\n",
       "      <td>98dd5420968c1505c057ea6e77ecbe20;cc6a8421d9e68...</td>\n",
       "      <td>ftp.sra.ebi.ac.uk/vol1/ERZ373/ERZ373538/AMC_UT...</td>\n",
       "      <td>Netherlands</td>\n",
       "    </tr>\n",
       "    <tr>\n",
       "      <th>2</th>\n",
       "      <td>ERZ373539</td>\n",
       "      <td>UTI_28</td>\n",
       "      <td>SAMEA4556056</td>\n",
       "      <td>Escherichia coli</td>\n",
       "      <td>51c236775fd5e296685b516a31bfb77e;fb242de563407...</td>\n",
       "      <td>ftp.sra.ebi.ac.uk/vol1/ERZ373/ERZ373539/AMC_UT...</td>\n",
       "      <td>Netherlands</td>\n",
       "    </tr>\n",
       "  </tbody>\n",
       "</table>\n",
       "</div>"
      ],
      "text/plain": [
       "  analysis_accession sample_alias sample_accession   scientific_name  \\\n",
       "0          ERZ373537    UTI_19-II     SAMEA4556054  Escherichia coli   \n",
       "1          ERZ373538       UTI_23     SAMEA4556055  Escherichia coli   \n",
       "2          ERZ373539       UTI_28     SAMEA4556056  Escherichia coli   \n",
       "\n",
       "                                       submitted_md5  \\\n",
       "0  7f4572c9a91ff3d40b873245c6c8badc;c62b6154a043a...   \n",
       "1  98dd5420968c1505c057ea6e77ecbe20;cc6a8421d9e68...   \n",
       "2  51c236775fd5e296685b516a31bfb77e;fb242de563407...   \n",
       "\n",
       "                                       submitted_ftp      country  \n",
       "0  ftp.sra.ebi.ac.uk/vol1/ERZ373/ERZ373537/AMC_UT...  Netherlands  \n",
       "1  ftp.sra.ebi.ac.uk/vol1/ERZ373/ERZ373538/AMC_UT...  Netherlands  \n",
       "2  ftp.sra.ebi.ac.uk/vol1/ERZ373/ERZ373539/AMC_UT...  Netherlands  "
      ]
     },
     "execution_count": 4,
     "metadata": {},
     "output_type": "execute_result"
    }
   ],
   "source": [
    "metaDF = pd.read_csv('metaFILE.txt', sep='\\t')\n",
    "metaDF.head(3)"
   ]
  },
  {
   "cell_type": "markdown",
   "metadata": {},
   "source": [
    "Look at the first entry in details!\n",
    "\n",
    "We have two files submitted, a .txt and a .md5. The .txt contains the actual MIC values, while the .md5 contains the md5 hash for the MIC file. Also there is a column, called submitted_md5. This holds md5 hash values for both uploaded files. (There is some redundancy for the hashes...)"
   ]
  },
  {
   "cell_type": "code",
   "execution_count": 5,
   "metadata": {},
   "outputs": [
    {
     "data": {
      "text/plain": [
       "'ftp.sra.ebi.ac.uk/vol1/ERZ373/ERZ373537/AMC_UTI_19_SAMEA4556054.txt;ftp.sra.ebi.ac.uk/vol1/ERZ373/ERZ373537/ERZ373537.md5'"
      ]
     },
     "execution_count": 5,
     "metadata": {},
     "output_type": "execute_result"
    }
   ],
   "source": [
    "metaDF.submitted_ftp.tolist()[0]"
   ]
  },
  {
   "cell_type": "markdown",
   "metadata": {},
   "source": [
    "Let's download them via curl. For some files you will need password authentication, for some, you do not need it."
   ]
  },
  {
   "cell_type": "code",
   "execution_count": 6,
   "metadata": {},
   "outputs": [],
   "source": [
    "!curl -s -u $user:$pwd ftp.sra.ebi.ac.uk/vol1/ERZ373/ERZ373537/ERZ373537.md5 > hashFile\n",
    "!curl -s -u $user:$pwd ftp.sra.ebi.ac.uk/vol1/ERZ373/ERZ373537/AMC_UTI_19_SAMEA4556054.txt > MICfile.txt"
   ]
  },
  {
   "cell_type": "code",
   "execution_count": 7,
   "metadata": {},
   "outputs": [
    {
     "name": "stdout",
     "output_type": "stream",
     "text": [
      "7f4572c9a91ff3d40b873245c6c8badc  AMC_UTI_19_SAMEA4556054.txt\r\n"
     ]
    }
   ],
   "source": [
    "!cat hashFile"
   ]
  },
  {
   "cell_type": "code",
   "execution_count": 8,
   "metadata": {},
   "outputs": [
    {
     "name": "stdout",
     "output_type": "stream",
     "text": [
      "7f4572c9a91ff3d40b873245c6c8badc  MICfile.txt\r\n"
     ]
    }
   ],
   "source": [
    "!md5sum MICfile.txt"
   ]
  },
  {
   "cell_type": "markdown",
   "metadata": {},
   "source": [
    "The calculated md5 hash matched the submitted one, so the downloaded file is not corrupted.\n",
    "\n",
    "---\n",
    "Now let's have a look at the MIC file. It contains the antibiotic_name, the measurement, its units and some other lab protocol identifiers."
   ]
  },
  {
   "cell_type": "code",
   "execution_count": 9,
   "metadata": {},
   "outputs": [
    {
     "data": {
      "text/html": [
       "<div>\n",
       "<style scoped>\n",
       "    .dataframe tbody tr th:only-of-type {\n",
       "        vertical-align: middle;\n",
       "    }\n",
       "\n",
       "    .dataframe tbody tr th {\n",
       "        vertical-align: top;\n",
       "    }\n",
       "\n",
       "    .dataframe thead th {\n",
       "        text-align: right;\n",
       "    }\n",
       "</style>\n",
       "<table border=\"1\" class=\"dataframe\">\n",
       "  <thead>\n",
       "    <tr style=\"text-align: right;\">\n",
       "      <th></th>\n",
       "      <th>bioSample_ID</th>\n",
       "      <th>species</th>\n",
       "      <th>antibiotic_name</th>\n",
       "      <th>ast_standard</th>\n",
       "      <th>breakpoint_version</th>\n",
       "      <th>laboratory_typing_method</th>\n",
       "      <th>measurement</th>\n",
       "      <th>measurement_units</th>\n",
       "      <th>measurement_sign</th>\n",
       "      <th>resistance_phenotype</th>\n",
       "      <th>platform</th>\n",
       "    </tr>\n",
       "  </thead>\n",
       "  <tbody>\n",
       "    <tr>\n",
       "      <th>0</th>\n",
       "      <td>SAMEA4556054</td>\n",
       "      <td>Escherichia coli</td>\n",
       "      <td>ciprofloxacin</td>\n",
       "      <td>EUCAST</td>\n",
       "      <td>2011</td>\n",
       "      <td>Microbroth dilution</td>\n",
       "      <td>1.0</td>\n",
       "      <td>mg/L</td>\n",
       "      <td>&gt;=</td>\n",
       "      <td>intermediate</td>\n",
       "      <td>Vitek</td>\n",
       "    </tr>\n",
       "    <tr>\n",
       "      <th>1</th>\n",
       "      <td>SAMEA4556054</td>\n",
       "      <td>Escherichia coli</td>\n",
       "      <td>norfloxacin</td>\n",
       "      <td>EUCAST</td>\n",
       "      <td>2011</td>\n",
       "      <td>Microbroth dilution</td>\n",
       "      <td>2.0</td>\n",
       "      <td>mg/L</td>\n",
       "      <td>=</td>\n",
       "      <td>resistant</td>\n",
       "      <td>Vitek</td>\n",
       "    </tr>\n",
       "  </tbody>\n",
       "</table>\n",
       "</div>"
      ],
      "text/plain": [
       "   bioSample_ID           species antibiotic_name ast_standard  \\\n",
       "0  SAMEA4556054  Escherichia coli   ciprofloxacin       EUCAST   \n",
       "1  SAMEA4556054  Escherichia coli     norfloxacin       EUCAST   \n",
       "\n",
       "   breakpoint_version laboratory_typing_method  measurement measurement_units  \\\n",
       "0                2011      Microbroth dilution          1.0              mg/L   \n",
       "1                2011      Microbroth dilution          2.0              mg/L   \n",
       "\n",
       "  measurement_sign resistance_phenotype platform  \n",
       "0               >=         intermediate    Vitek  \n",
       "1                =            resistant    Vitek  "
      ]
     },
     "execution_count": 9,
     "metadata": {},
     "output_type": "execute_result"
    }
   ],
   "source": [
    "micDF = pd.read_csv('MICfile.txt', sep='\\t')\n",
    "micDF.head(2)"
   ]
  },
  {
   "cell_type": "markdown",
   "metadata": {},
   "source": [
    "The other file, what we got with **result=read_run** setting contains the ftp links for the raw reads. It has similar md5 hash validation as we've seen before."
   ]
  },
  {
   "cell_type": "code",
   "execution_count": 10,
   "metadata": {},
   "outputs": [
    {
     "data": {
      "text/html": [
       "<div>\n",
       "<style scoped>\n",
       "    .dataframe tbody tr th:only-of-type {\n",
       "        vertical-align: middle;\n",
       "    }\n",
       "\n",
       "    .dataframe tbody tr th {\n",
       "        vertical-align: top;\n",
       "    }\n",
       "\n",
       "    .dataframe thead th {\n",
       "        text-align: right;\n",
       "    }\n",
       "</style>\n",
       "<table border=\"1\" class=\"dataframe\">\n",
       "  <thead>\n",
       "    <tr style=\"text-align: right;\">\n",
       "      <th></th>\n",
       "      <th>run_accession</th>\n",
       "      <th>sample_alias</th>\n",
       "      <th>library_layout</th>\n",
       "      <th>sample_accession</th>\n",
       "      <th>fastq_md5</th>\n",
       "      <th>fastq_ftp</th>\n",
       "    </tr>\n",
       "  </thead>\n",
       "  <tbody>\n",
       "    <tr>\n",
       "      <th>0</th>\n",
       "      <td>DRR148121</td>\n",
       "      <td>SAMD00126358</td>\n",
       "      <td>PAIRED</td>\n",
       "      <td>SAMD00126358</td>\n",
       "      <td>b999b9f5eda6f3847ec9c68b52bce544;bd17a9d2a39eb...</td>\n",
       "      <td>ftp.sra.ebi.ac.uk/vol1/fastq/DRR148/DRR148121/...</td>\n",
       "    </tr>\n",
       "    <tr>\n",
       "      <th>1</th>\n",
       "      <td>DRR148122</td>\n",
       "      <td>SAMD00126359</td>\n",
       "      <td>PAIRED</td>\n",
       "      <td>SAMD00126359</td>\n",
       "      <td>04a92a50a8b629e434abc352665fa012;396d011a0706b...</td>\n",
       "      <td>ftp.sra.ebi.ac.uk/vol1/fastq/DRR148/DRR148122/...</td>\n",
       "    </tr>\n",
       "  </tbody>\n",
       "</table>\n",
       "</div>"
      ],
      "text/plain": [
       "  run_accession  sample_alias library_layout sample_accession  \\\n",
       "0     DRR148121  SAMD00126358         PAIRED     SAMD00126358   \n",
       "1     DRR148122  SAMD00126359         PAIRED     SAMD00126359   \n",
       "\n",
       "                                           fastq_md5  \\\n",
       "0  b999b9f5eda6f3847ec9c68b52bce544;bd17a9d2a39eb...   \n",
       "1  04a92a50a8b629e434abc352665fa012;396d011a0706b...   \n",
       "\n",
       "                                           fastq_ftp  \n",
       "0  ftp.sra.ebi.ac.uk/vol1/fastq/DRR148/DRR148121/...  \n",
       "1  ftp.sra.ebi.ac.uk/vol1/fastq/DRR148/DRR148122/...  "
      ]
     },
     "execution_count": 10,
     "metadata": {},
     "output_type": "execute_result"
    }
   ],
   "source": [
    "readDF = pd.read_csv('readFILE.txt', sep='\\t')\n",
    "readDF.head(2)"
   ]
  },
  {
   "cell_type": "markdown",
   "metadata": {},
   "source": [
    "### We can merge the metadata with the raw reads with the sample_accession column."
   ]
  },
  {
   "cell_type": "code",
   "execution_count": 11,
   "metadata": {},
   "outputs": [
    {
     "data": {
      "text/html": [
       "<div>\n",
       "<style scoped>\n",
       "    .dataframe tbody tr th:only-of-type {\n",
       "        vertical-align: middle;\n",
       "    }\n",
       "\n",
       "    .dataframe tbody tr th {\n",
       "        vertical-align: top;\n",
       "    }\n",
       "\n",
       "    .dataframe thead th {\n",
       "        text-align: right;\n",
       "    }\n",
       "</style>\n",
       "<table border=\"1\" class=\"dataframe\">\n",
       "  <thead>\n",
       "    <tr style=\"text-align: right;\">\n",
       "      <th></th>\n",
       "      <th>run_accession</th>\n",
       "      <th>sample_alias_x</th>\n",
       "      <th>library_layout</th>\n",
       "      <th>sample_accession</th>\n",
       "      <th>fastq_md5</th>\n",
       "      <th>fastq_ftp</th>\n",
       "      <th>analysis_accession</th>\n",
       "      <th>sample_alias_y</th>\n",
       "      <th>scientific_name</th>\n",
       "      <th>submitted_md5</th>\n",
       "      <th>submitted_ftp</th>\n",
       "      <th>country</th>\n",
       "    </tr>\n",
       "  </thead>\n",
       "  <tbody>\n",
       "    <tr>\n",
       "      <th>0</th>\n",
       "      <td>ERR1417711</td>\n",
       "      <td>sam_103239_20160518_DTU2016_546_PRJ1055_EScher...</td>\n",
       "      <td>PAIRED</td>\n",
       "      <td>SAMEA3993565</td>\n",
       "      <td>97fa323b1425ecf573d5d9067648fd4b;139229d14f074...</td>\n",
       "      <td>ftp.sra.ebi.ac.uk/vol1/fastq/ERR141/001/ERR141...</td>\n",
       "      <td>ERZ390162</td>\n",
       "      <td>sam_103239_20160518_DTU2016_546_PRJ1055_EScher...</td>\n",
       "      <td>Escherichia coli</td>\n",
       "      <td>6c263b3243049bbbb5081cea7d29c755;b84641ebe5076...</td>\n",
       "      <td>ftp.sra.ebi.ac.uk/vol1/ERZ390/ERZ390162/ERZ390...</td>\n",
       "      <td>Denmark</td>\n",
       "    </tr>\n",
       "    <tr>\n",
       "      <th>1</th>\n",
       "      <td>ERR1417712</td>\n",
       "      <td>sam_103239_20160518_DTU2016_547_PRJ1055_EScher...</td>\n",
       "      <td>PAIRED</td>\n",
       "      <td>SAMEA3993566</td>\n",
       "      <td>b21d5ecb564426806a459b5e7b92ec3a;33ca1f505080e...</td>\n",
       "      <td>ftp.sra.ebi.ac.uk/vol1/fastq/ERR141/002/ERR141...</td>\n",
       "      <td>ERZ390163</td>\n",
       "      <td>sam_103239_20160518_DTU2016_547_PRJ1055_EScher...</td>\n",
       "      <td>Escherichia coli</td>\n",
       "      <td>56bfc7bef13d72606ac727858c50909a;32b6e7c1b55cb...</td>\n",
       "      <td>ftp.sra.ebi.ac.uk/vol1/ERZ390/ERZ390163/ERZ390...</td>\n",
       "      <td>Denmark</td>\n",
       "    </tr>\n",
       "    <tr>\n",
       "      <th>2</th>\n",
       "      <td>ERR1417713</td>\n",
       "      <td>sam_103239_20160518_DTU2016_548_PRJ1055_EScher...</td>\n",
       "      <td>PAIRED</td>\n",
       "      <td>SAMEA3993567</td>\n",
       "      <td>7754fc8c0f741d05e795373960788657;da2456954bc64...</td>\n",
       "      <td>ftp.sra.ebi.ac.uk/vol1/fastq/ERR141/003/ERR141...</td>\n",
       "      <td>ERZ390164</td>\n",
       "      <td>sam_103239_20160518_DTU2016_548_PRJ1055_EScher...</td>\n",
       "      <td>Escherichia coli</td>\n",
       "      <td>3369909c9a0242e8aeb0a8b4ac943e07;403f07f4ec229...</td>\n",
       "      <td>ftp.sra.ebi.ac.uk/vol1/ERZ390/ERZ390164/ERZ390...</td>\n",
       "      <td>Denmark</td>\n",
       "    </tr>\n",
       "  </tbody>\n",
       "</table>\n",
       "</div>"
      ],
      "text/plain": [
       "  run_accession                                     sample_alias_x  \\\n",
       "0    ERR1417711  sam_103239_20160518_DTU2016_546_PRJ1055_EScher...   \n",
       "1    ERR1417712  sam_103239_20160518_DTU2016_547_PRJ1055_EScher...   \n",
       "2    ERR1417713  sam_103239_20160518_DTU2016_548_PRJ1055_EScher...   \n",
       "\n",
       "  library_layout sample_accession  \\\n",
       "0         PAIRED     SAMEA3993565   \n",
       "1         PAIRED     SAMEA3993566   \n",
       "2         PAIRED     SAMEA3993567   \n",
       "\n",
       "                                           fastq_md5  \\\n",
       "0  97fa323b1425ecf573d5d9067648fd4b;139229d14f074...   \n",
       "1  b21d5ecb564426806a459b5e7b92ec3a;33ca1f505080e...   \n",
       "2  7754fc8c0f741d05e795373960788657;da2456954bc64...   \n",
       "\n",
       "                                           fastq_ftp analysis_accession  \\\n",
       "0  ftp.sra.ebi.ac.uk/vol1/fastq/ERR141/001/ERR141...          ERZ390162   \n",
       "1  ftp.sra.ebi.ac.uk/vol1/fastq/ERR141/002/ERR141...          ERZ390163   \n",
       "2  ftp.sra.ebi.ac.uk/vol1/fastq/ERR141/003/ERR141...          ERZ390164   \n",
       "\n",
       "                                      sample_alias_y   scientific_name  \\\n",
       "0  sam_103239_20160518_DTU2016_546_PRJ1055_EScher...  Escherichia coli   \n",
       "1  sam_103239_20160518_DTU2016_547_PRJ1055_EScher...  Escherichia coli   \n",
       "2  sam_103239_20160518_DTU2016_548_PRJ1055_EScher...  Escherichia coli   \n",
       "\n",
       "                                       submitted_md5  \\\n",
       "0  6c263b3243049bbbb5081cea7d29c755;b84641ebe5076...   \n",
       "1  56bfc7bef13d72606ac727858c50909a;32b6e7c1b55cb...   \n",
       "2  3369909c9a0242e8aeb0a8b4ac943e07;403f07f4ec229...   \n",
       "\n",
       "                                       submitted_ftp  country  \n",
       "0  ftp.sra.ebi.ac.uk/vol1/ERZ390/ERZ390162/ERZ390...  Denmark  \n",
       "1  ftp.sra.ebi.ac.uk/vol1/ERZ390/ERZ390163/ERZ390...  Denmark  \n",
       "2  ftp.sra.ebi.ac.uk/vol1/ERZ390/ERZ390164/ERZ390...  Denmark  "
      ]
     },
     "execution_count": 11,
     "metadata": {},
     "output_type": "execute_result"
    }
   ],
   "source": [
    "mergedDF = pd.merge(readDF, metaDF, on='sample_accession', how='inner')\n",
    "mergedDF.head(3)"
   ]
  },
  {
   "cell_type": "markdown",
   "metadata": {},
   "source": [
    "Now we have the list of files for both MIC values and raw reads. With a foor loop it is quiet easy to download them and work on the local copies."
   ]
  },
  {
   "cell_type": "code",
   "execution_count": 12,
   "metadata": {},
   "outputs": [
    {
     "data": {
      "text/html": [
       "<div>\n",
       "<style scoped>\n",
       "    .dataframe tbody tr th:only-of-type {\n",
       "        vertical-align: middle;\n",
       "    }\n",
       "\n",
       "    .dataframe tbody tr th {\n",
       "        vertical-align: top;\n",
       "    }\n",
       "\n",
       "    .dataframe thead th {\n",
       "        text-align: right;\n",
       "    }\n",
       "</style>\n",
       "<table border=\"1\" class=\"dataframe\">\n",
       "  <thead>\n",
       "    <tr style=\"text-align: right;\">\n",
       "      <th></th>\n",
       "      <th>fastq_ftp</th>\n",
       "      <th>sample_accession</th>\n",
       "      <th>submitted_ftp</th>\n",
       "      <th>scientific_name</th>\n",
       "    </tr>\n",
       "  </thead>\n",
       "  <tbody>\n",
       "    <tr>\n",
       "      <th>0</th>\n",
       "      <td>ftp.sra.ebi.ac.uk/vol1/fastq/ERR141/001/ERR141...</td>\n",
       "      <td>SAMEA3993565</td>\n",
       "      <td>ftp.sra.ebi.ac.uk/vol1/ERZ390/ERZ390162/ERZ390...</td>\n",
       "      <td>Escherichia coli</td>\n",
       "    </tr>\n",
       "    <tr>\n",
       "      <th>1</th>\n",
       "      <td>ftp.sra.ebi.ac.uk/vol1/fastq/ERR141/002/ERR141...</td>\n",
       "      <td>SAMEA3993566</td>\n",
       "      <td>ftp.sra.ebi.ac.uk/vol1/ERZ390/ERZ390163/ERZ390...</td>\n",
       "      <td>Escherichia coli</td>\n",
       "    </tr>\n",
       "    <tr>\n",
       "      <th>2</th>\n",
       "      <td>ftp.sra.ebi.ac.uk/vol1/fastq/ERR141/003/ERR141...</td>\n",
       "      <td>SAMEA3993567</td>\n",
       "      <td>ftp.sra.ebi.ac.uk/vol1/ERZ390/ERZ390164/ERZ390...</td>\n",
       "      <td>Escherichia coli</td>\n",
       "    </tr>\n",
       "  </tbody>\n",
       "</table>\n",
       "</div>"
      ],
      "text/plain": [
       "                                           fastq_ftp sample_accession  \\\n",
       "0  ftp.sra.ebi.ac.uk/vol1/fastq/ERR141/001/ERR141...     SAMEA3993565   \n",
       "1  ftp.sra.ebi.ac.uk/vol1/fastq/ERR141/002/ERR141...     SAMEA3993566   \n",
       "2  ftp.sra.ebi.ac.uk/vol1/fastq/ERR141/003/ERR141...     SAMEA3993567   \n",
       "\n",
       "                                       submitted_ftp   scientific_name  \n",
       "0  ftp.sra.ebi.ac.uk/vol1/ERZ390/ERZ390162/ERZ390...  Escherichia coli  \n",
       "1  ftp.sra.ebi.ac.uk/vol1/ERZ390/ERZ390163/ERZ390...  Escherichia coli  \n",
       "2  ftp.sra.ebi.ac.uk/vol1/ERZ390/ERZ390164/ERZ390...  Escherichia coli  "
      ]
     },
     "execution_count": 12,
     "metadata": {},
     "output_type": "execute_result"
    }
   ],
   "source": [
    "mergedDF[['fastq_ftp', 'sample_accession', 'submitted_ftp', 'scientific_name']].head(3)"
   ]
  }
 ],
 "metadata": {
  "kernelspec": {
   "display_name": "Python 3",
   "language": "python",
   "name": "python3"
  },
  "language_info": {
   "codemirror_mode": {
    "name": "ipython",
    "version": 3
   },
   "file_extension": ".py",
   "mimetype": "text/x-python",
   "name": "python",
   "nbconvert_exporter": "python",
   "pygments_lexer": "ipython3",
   "version": "3.5.2"
  }
 },
 "nbformat": 4,
 "nbformat_minor": 2
}
